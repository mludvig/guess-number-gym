{
 "cells": [
  {
   "cell_type": "markdown",
   "metadata": {},
   "source": [
    "# Guess a Number - SageMaker notebook with HyperParameter tuning\n",
    "\n",
    "*By Michael Ludvig*"
   ]
  },
  {
   "cell_type": "markdown",
   "metadata": {},
   "source": [
    "**Import the required modules**"
   ]
  },
  {
   "cell_type": "code",
   "execution_count": null,
   "metadata": {},
   "outputs": [],
   "source": [
    "import os\n",
    "import sagemaker\n",
    "from sagemaker.rl import RLEstimator, RLToolkit, RLFramework\n",
    "from sagemaker_job.misc import get_execution_role, wait_for_s3_object"
   ]
  },
  {
   "cell_type": "markdown",
   "metadata": {},
   "source": [
    "**Job configuration**"
   ]
  },
  {
   "cell_type": "code",
   "execution_count": null,
   "metadata": {},
   "outputs": [],
   "source": [
    "job_name_prefix = 'tune-guessnumber'\n",
    "\n",
    "instance_type = \"ml.c5.xlarge\""
   ]
  },
  {
   "cell_type": "markdown",
   "metadata": {},
   "source": [
    "**Find out AWS resources**"
   ]
  },
  {
   "cell_type": "code",
   "execution_count": null,
   "metadata": {},
   "outputs": [],
   "source": [
    "# Figure out S3 bucket\n",
    "sage_session = sagemaker.session.Session()\n",
    "s3_bucket = sage_session.default_bucket()  \n",
    "s3_output_path = 's3://{}/'.format(s3_bucket)\n",
    "print(\"S3 bucket path: {}\".format(s3_output_path))\n",
    "\n",
    "# Figure out execution role\n",
    "try:\n",
    "    role = sagemaker.get_execution_role()\n",
    "except:\n",
    "    role = get_execution_role()\n",
    "\n",
    "print(\"Using IAM role arn: {}\".format(role))"
   ]
  },
  {
   "cell_type": "code",
   "execution_count": null,
   "metadata": {},
   "outputs": [],
   "source": [
    "from sagemaker.tuner import IntegerParameter, CategoricalParameter, ContinuousParameter, HyperparameterTuner\n",
    "\n",
    "# The hyperparameters that are the same for all jobs\n",
    "static_hyperparameters = {\n",
    "    # This 'improve_steps' name is mapped to a real name in sagemaker_job/train-coach.py\n",
    "    'improve_steps': 100000,\n",
    "}\n",
    "\n",
    "# The hyperparameters we're going to tune\n",
    "hyperparameter_ranges = {\n",
    "    'rl.agent_params.algorithm.optimization_epochs': IntegerParameter(3, 20),\n",
    "    'rl.agent_params.algorithm.discount': ContinuousParameter(0.9, 0.99),\n",
    "    'rl.agent_params.algorithm.clip_likelihood_ratio_using_epsilon': ContinuousParameter(0.1, 0.3),\n",
    "    \"rl.learning_rate\": ContinuousParameter(1e-5, 0.005),    # see sagemaker_job/train-coach.py for mapping\n",
    "}"
   ]
  },
  {
   "cell_type": "markdown",
   "metadata": {},
   "source": [
    "**RL Estimator with HyperparameterTuner** - here the tuning happens"
   ]
  },
  {
   "cell_type": "code",
   "execution_count": null,
   "metadata": {},
   "outputs": [],
   "source": [
    "max_jobs = 25\n",
    "max_parallel_jobs = 5\n",
    "\n",
    "metric_definitions = RLEstimator.default_metric_definitions(RLToolkit.COACH)\n",
    "\n",
    "estimator = RLEstimator(entry_point=\"train-coach.py\",\n",
    "                        source_dir=\"sagemaker_job\",\n",
    "                        dependencies=[\"gym_guess_number\"],\n",
    "                        toolkit=RLToolkit.COACH,\n",
    "                        toolkit_version='0.11.0',\n",
    "                        framework=RLFramework.MXNET,\n",
    "                        role=role,\n",
    "                        train_instance_type=instance_type,\n",
    "                        train_instance_count=1,\n",
    "                        #train_max_run=1800,    # Max runtime in seconds (1800 sec = 30 min)\n",
    "                        output_path=s3_output_path,\n",
    "                        base_job_name=job_name_prefix,\n",
    "                        metric_definitions=metric_definitions,\n",
    "                        hyperparameters = static_hyperparameters,\n",
    "                    )\n",
    "\n",
    "tuner = HyperparameterTuner(estimator,\n",
    "                            objective_metric_name='reward-training',\n",
    "                            objective_type='Maximize',\n",
    "                            hyperparameter_ranges=hyperparameter_ranges,\n",
    "                            metric_definitions=metric_definitions,\n",
    "                            max_jobs=max_jobs,\n",
    "                            max_parallel_jobs=max_parallel_jobs,\n",
    "                            base_tuning_job_name=job_name_prefix,\n",
    "                           )\n",
    "\n",
    "tuner.fit()"
   ]
  },
  {
   "cell_type": "markdown",
   "metadata": {},
   "source": [
    "**Wait for completion**\n",
    "\n",
    "1. Now go to [**AWS Sagemaker --> Training --> Hyperparameter tuning jobs**](https://us-west-2.console.aws.amazon.com/sagemaker/home?region=us-west-2#/hyper-tuning-jobs) and check the progress and results.\n",
    "2. Once finished open [GuessNumber-SageMaker.ipynb](GuessNumber-SageMaker.ipynb), update the hyperparameters there and re-run training."
   ]
  }
 ],
 "metadata": {
  "kernelspec": {
   "display_name": "Python 3",
   "language": "python",
   "name": "python3"
  },
  "language_info": {
   "codemirror_mode": {
    "name": "ipython",
    "version": 3
   },
   "file_extension": ".py",
   "mimetype": "text/x-python",
   "name": "python",
   "nbconvert_exporter": "python",
   "pygments_lexer": "ipython3",
   "version": "3.6.7"
  }
 },
 "nbformat": 4,
 "nbformat_minor": 2
}
